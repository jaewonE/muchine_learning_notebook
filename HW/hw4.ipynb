{
 "cells": [
  {
   "cell_type": "code",
   "execution_count": 1,
   "metadata": {},
   "outputs": [],
   "source": [
    "import tensorflow as tf\n",
    "from tensorflow.keras.layers import Dense, Conv2D, MaxPooling2D, Flatten, Dropout\n",
    "from tensorflow.keras.models import Sequential\n",
    "from tensorflow.keras.datasets import fashion_mnist\n",
    "from tensorflow.keras.utils import to_categorical\n",
    "from sklearn.model_selection import train_test_split\n",
    "from tensorflow.keras.callbacks import ModelCheckpoint\n",
    "\n",
    "# Fashion MNIST 데이터셋 로드\n",
    "(train_images, train_labels), (test_images,\n",
    "                               test_labels) = fashion_mnist.load_data()\n",
    "\n",
    "# 데이터 정규화\n",
    "train_images = train_images.reshape((60000, 28, 28, 1)).astype('float32') / 255\n",
    "test_images = test_images.reshape((10000, 28, 28, 1)).astype('float32') / 255\n",
    "\n",
    "# 레이블 원-핫 인코딩\n",
    "train_labels = to_categorical(train_labels)\n",
    "test_labels = to_categorical(test_labels)\n",
    "\n",
    "# 데이터 분할: train, val, test (80%, 10%, 10%)\n",
    "train_images, val_images, train_labels, val_labels = train_test_split(\n",
    "    train_images, train_labels, test_size=0.2, random_state=42)\n",
    "val_images, test_images, val_labels, test_labels = train_test_split(\n",
    "    val_images, val_labels, test_size=0.5, random_state=42)"
   ]
  },
  {
   "cell_type": "code",
   "execution_count": 2,
   "metadata": {},
   "outputs": [
    {
     "name": "stdout",
     "output_type": "stream",
     "text": [
      "Metal device set to: Apple M1\n",
      "\n",
      "systemMemory: 16.00 GB\n",
      "maxCacheSize: 5.33 GB\n",
      "\n",
      "Model: \"sequential\"\n",
      "_________________________________________________________________\n",
      " Layer (type)                Output Shape              Param #   \n",
      "=================================================================\n",
      " conv2d (Conv2D)             (None, 26, 26, 32)        320       \n",
      "                                                                 \n",
      " max_pooling2d (MaxPooling2D  (None, 13, 13, 32)       0         \n",
      " )                                                               \n",
      "                                                                 \n",
      " conv2d_1 (Conv2D)           (None, 11, 11, 64)        18496     \n",
      "                                                                 \n",
      " max_pooling2d_1 (MaxPooling  (None, 5, 5, 64)         0         \n",
      " 2D)                                                             \n",
      "                                                                 \n",
      " flatten (Flatten)           (None, 1600)              0         \n",
      "                                                                 \n",
      " dropout (Dropout)           (None, 1600)              0         \n",
      "                                                                 \n",
      " dense (Dense)               (None, 64)                102464    \n",
      "                                                                 \n",
      " dense_1 (Dense)             (None, 10)                650       \n",
      "                                                                 \n",
      "=================================================================\n",
      "Total params: 121,930\n",
      "Trainable params: 121,930\n",
      "Non-trainable params: 0\n",
      "_________________________________________________________________\n"
     ]
    },
    {
     "name": "stderr",
     "output_type": "stream",
     "text": [
      "2023-12-05 15:56:48.890517: I tensorflow/core/common_runtime/pluggable_device/pluggable_device_factory.cc:305] Could not identify NUMA node of platform GPU ID 0, defaulting to 0. Your kernel may not have been built with NUMA support.\n",
      "2023-12-05 15:56:48.890608: I tensorflow/core/common_runtime/pluggable_device/pluggable_device_factory.cc:271] Created TensorFlow device (/job:localhost/replica:0/task:0/device:GPU:0 with 0 MB memory) -> physical PluggableDevice (device: 0, name: METAL, pci bus id: <undefined>)\n"
     ]
    }
   ],
   "source": [
    "# 모델 구성\n",
    "model = Sequential([\n",
    "    Conv2D(32, (3, 3), activation='relu', input_shape=(28, 28, 1)),\n",
    "    MaxPooling2D((2, 2)),\n",
    "    Conv2D(64, (3, 3), activation='relu'),\n",
    "    MaxPooling2D((2, 2)),\n",
    "    Flatten(),\n",
    "    Dropout(0.25),\n",
    "    Dense(64, activation='relu'),\n",
    "    Dense(10, activation='softmax')\n",
    "])\n",
    "\n",
    "model.summary()"
   ]
  },
  {
   "cell_type": "code",
   "execution_count": 3,
   "metadata": {},
   "outputs": [
    {
     "name": "stdout",
     "output_type": "stream",
     "text": [
      "Epoch 1/20\n"
     ]
    },
    {
     "name": "stderr",
     "output_type": "stream",
     "text": [
      "2023-12-05 15:56:49.122583: W tensorflow/core/platform/profile_utils/cpu_utils.cc:128] Failed to get CPU frequency: 0 Hz\n",
      "2023-12-05 15:56:49.315684: I tensorflow/core/grappler/optimizers/custom_graph_optimizer_registry.cc:113] Plugin optimizer for device_type GPU is enabled.\n"
     ]
    },
    {
     "name": "stdout",
     "output_type": "stream",
     "text": [
      "1498/1500 [============================>.] - ETA: 0s - loss: 0.5154 - accuracy: 0.8126"
     ]
    },
    {
     "name": "stderr",
     "output_type": "stream",
     "text": [
      "2023-12-05 15:57:06.437517: I tensorflow/core/grappler/optimizers/custom_graph_optimizer_registry.cc:113] Plugin optimizer for device_type GPU is enabled.\n"
     ]
    },
    {
     "name": "stdout",
     "output_type": "stream",
     "text": [
      "1500/1500 [==============================] - 19s 12ms/step - loss: 0.5153 - accuracy: 0.8126 - val_loss: 0.3791 - val_accuracy: 0.8595\n",
      "Epoch 2/20\n",
      "1500/1500 [==============================] - 18s 12ms/step - loss: 0.3451 - accuracy: 0.8759 - val_loss: 0.3228 - val_accuracy: 0.8798\n",
      "Epoch 3/20\n",
      "1500/1500 [==============================] - 18s 12ms/step - loss: 0.2976 - accuracy: 0.8911 - val_loss: 0.2783 - val_accuracy: 0.8992\n",
      "Epoch 4/20\n",
      "1500/1500 [==============================] - 18s 12ms/step - loss: 0.2685 - accuracy: 0.9019 - val_loss: 0.2656 - val_accuracy: 0.9020\n",
      "Epoch 5/20\n",
      "1500/1500 [==============================] - 18s 12ms/step - loss: 0.2467 - accuracy: 0.9086 - val_loss: 0.2823 - val_accuracy: 0.8988\n",
      "Epoch 6/20\n",
      "1500/1500 [==============================] - 19s 13ms/step - loss: 0.2313 - accuracy: 0.9149 - val_loss: 0.2634 - val_accuracy: 0.8993\n",
      "Epoch 7/20\n",
      "1500/1500 [==============================] - 18s 12ms/step - loss: 0.2141 - accuracy: 0.9210 - val_loss: 0.2476 - val_accuracy: 0.9078\n",
      "Epoch 8/20\n",
      "1500/1500 [==============================] - 18s 12ms/step - loss: 0.2014 - accuracy: 0.9240 - val_loss: 0.2483 - val_accuracy: 0.9075\n",
      "Epoch 9/20\n",
      "1500/1500 [==============================] - 18s 12ms/step - loss: 0.1910 - accuracy: 0.9284 - val_loss: 0.2513 - val_accuracy: 0.9088\n",
      "Epoch 10/20\n",
      "1500/1500 [==============================] - 18s 12ms/step - loss: 0.1798 - accuracy: 0.9324 - val_loss: 0.2463 - val_accuracy: 0.9137\n",
      "Epoch 11/20\n",
      "1500/1500 [==============================] - 18s 12ms/step - loss: 0.1703 - accuracy: 0.9356 - val_loss: 0.2484 - val_accuracy: 0.9097\n",
      "Epoch 12/20\n",
      "1500/1500 [==============================] - 18s 12ms/step - loss: 0.1616 - accuracy: 0.9383 - val_loss: 0.2450 - val_accuracy: 0.9145\n",
      "Epoch 13/20\n",
      "1500/1500 [==============================] - 18s 12ms/step - loss: 0.1536 - accuracy: 0.9414 - val_loss: 0.2363 - val_accuracy: 0.9165\n",
      "Epoch 14/20\n",
      "1500/1500 [==============================] - 23s 16ms/step - loss: 0.1477 - accuracy: 0.9441 - val_loss: 0.2531 - val_accuracy: 0.9145\n",
      "Epoch 15/20\n",
      "1500/1500 [==============================] - 18s 12ms/step - loss: 0.1379 - accuracy: 0.9477 - val_loss: 0.2538 - val_accuracy: 0.9183\n",
      "Epoch 16/20\n",
      "1500/1500 [==============================] - 18s 12ms/step - loss: 0.1327 - accuracy: 0.9500 - val_loss: 0.2581 - val_accuracy: 0.9140\n",
      "Epoch 17/20\n",
      "1500/1500 [==============================] - 18s 12ms/step - loss: 0.1237 - accuracy: 0.9531 - val_loss: 0.2700 - val_accuracy: 0.9162\n",
      "Epoch 18/20\n",
      "1500/1500 [==============================] - 18s 12ms/step - loss: 0.1213 - accuracy: 0.9545 - val_loss: 0.2581 - val_accuracy: 0.9180\n",
      "Epoch 19/20\n",
      "1500/1500 [==============================] - 18s 12ms/step - loss: 0.1154 - accuracy: 0.9559 - val_loss: 0.2516 - val_accuracy: 0.9202\n",
      "Epoch 20/20\n",
      "1500/1500 [==============================] - 19s 12ms/step - loss: 0.1108 - accuracy: 0.9579 - val_loss: 0.2675 - val_accuracy: 0.9155\n"
     ]
    }
   ],
   "source": [
    "# 모델 컴파일\n",
    "model.compile(optimizer='adam',\n",
    "              loss='categorical_crossentropy',\n",
    "              metrics=['accuracy'])\n",
    "\n",
    "# 모델 훈련\n",
    "history = model.fit(train_images,\n",
    "                    train_labels,\n",
    "                    epochs=20,\n",
    "                    validation_data=(val_images, val_labels),\n",
    "                    callbacks=[ModelCheckpoint('best_model.h5', save_best_only=True)])"
   ]
  },
  {
   "cell_type": "code",
   "execution_count": 6,
   "metadata": {},
   "outputs": [
    {
     "name": "stdout",
     "output_type": "stream",
     "text": [
      "188/188 [==============================] - 2s 8ms/step - loss: 0.2522 - accuracy: 0.9122\n"
     ]
    },
    {
     "data": {
      "text/plain": [
       "(0.2522028684616089, 0.9121666550636292)"
      ]
     },
     "execution_count": 6,
     "metadata": {},
     "output_type": "execute_result"
    }
   ],
   "source": [
    "# 체크포인트에서 모델 로드\n",
    "model.load_weights('best_model.h5')\n",
    "\n",
    "# 모델 평가\n",
    "test_loss, test_accuracy = model.evaluate(test_images, test_labels)\n",
    "test_loss, test_accuracy"
   ]
  },
  {
   "cell_type": "code",
   "execution_count": 5,
   "metadata": {},
   "outputs": [
    {
     "data": {
      "image/png": "[encoded data removed]",
      "text/plain": [
       "<Figure size 864x288 with 2 Axes>"
      ]
     },
     "metadata": {
      "needs_background": "light"
     },
     "output_type": "display_data"
    }
   ],
   "source": [
    "import matplotlib.pyplot as plt\n",
    "\n",
    "# 훈련 및 검증 정확도와 손실 그래프 그리기\n",
    "acc = history.history['accuracy']\n",
    "val_acc = history.history['val_accuracy']\n",
    "loss = history.history['loss']\n",
    "val_loss = history.history['val_loss']\n",
    "\n",
    "epochs_range = range(20)\n",
    "\n",
    "plt.figure(figsize=(12, 4))\n",
    "plt.subplot(1, 2, 1)\n",
    "plt.plot(epochs_range, acc, label='Training Accuracy')\n",
    "plt.plot(epochs_range, val_acc, label='Validation Accuracy')\n",
    "plt.title('Training and Validation Accuracy')\n",
    "plt.legend()\n",
    "\n",
    "plt.subplot(1, 2, 2)\n",
    "plt.plot(epochs_range, loss, label='Training Loss')\n",
    "plt.plot(epochs_range, val_loss, label='Validation Loss')\n",
    "plt.title('Training and Validation Loss')\n",
    "plt.legend()\n",
    "\n",
    "plt.show()"
   ]
  }
 ],
 "metadata": {
  "kernelspec": {
   "display_name": "Python 3",
   "language": "python",
   "name": "python3"
  },
  "language_info": {
   "codemirror_mode": {
    "name": "ipython",
    "version": 3
   },
   "file_extension": ".py",
   "mimetype": "text/x-python",
   "name": "python",
   "nbconvert_exporter": "python",
   "pygments_lexer": "ipython3",
   "version": "3.9.0"
  }
 },
 "nbformat": 4,
 "nbformat_minor": 2
}

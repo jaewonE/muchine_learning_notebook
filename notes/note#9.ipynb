{
 "cells": [
  {
   "cell_type": "markdown",
   "metadata": {},
   "source": [
    "# 앙상블 학습과 랜덤 포레스트\n"
   ]
  },
  {
   "cell_type": "markdown",
   "metadata": {},
   "source": [
    "- 투표 기반 분류기\n",
    "\n",
    "- 배깅과 페이스팅\n",
    "\n",
    "- 랜덤 패치와 서브 스페이스\n",
    "\n",
    "- 랜덤 포레스트\n",
    "\n",
    "- 부스팅\n",
    "\n",
    "  - 에이다부스트\n",
    "\n",
    "  - 그래이디언트 부스팅\n",
    "\n",
    "- 스태킹\n"
   ]
  },
  {
   "cell_type": "markdown",
   "metadata": {},
   "source": [
    "## 앙상블 학습이란\n"
   ]
  },
  {
   "cell_type": "markdown",
   "metadata": {},
   "source": [
    "한 명의 전문가보다 다수의 노비가 더 나은 경우가 있다. 이를 대중의 지혜라고 부른다. 이 대중의 지혜를 이용하여 기계학습 기법을 구성한 것을 \"앙상블 학습\"이라고 부른다.\n",
    "\n",
    "**앙상블**이란 여러 개의 예측기로 이루어진 그룹이며 **앙상블 학습**이란 여러 개의 예측기 결과를 종합하여 예측값을 지정하는 학습을 의미한다.\n",
    "\n",
    "> 앙상블 학습을 지원하는 앙상블 학습 알고리즘을 **앙상블 방법**이라고 부른다.\n",
    "\n",
    "<br>\n",
    "\n",
    "결정 트리를 기반으로 하는 앙상블 학습 방법을 **랜덤 포레스트**라고 부른다.\n",
    "\n",
    "여러 개의 결정 트리를 만들고 그 예측을 평균하여 더 나은 예측을 만드는 것이다.\n"
   ]
  },
  {
   "cell_type": "markdown",
   "metadata": {},
   "source": [
    "## 투표 기반 분류기\n"
   ]
  },
  {
   "cell_type": "markdown",
   "metadata": {},
   "source": [
    "투표 기반 분류기는 **앙상블 학습의 한 형태**로, 여러 개의 분류기의 예측을 투표 방식으로 결합하여 최종 예측을 만드는 방법이다.\n",
    "\n",
    "이와 같은 투표 기반 분류기는 **큰 수의 법칙**에 기반한다.\n",
    "\n",
    "큰 수의 법칙이란 반복 시행하는 횟수가 많거나 표본이 커질수록 정확한 예측으로 수렴한다는 법칙이다.\n",
    "\n",
    "예를 들어 동전 던지기를 수행할 때 10회, 100회, 1000회를 수행하면서 앞면이 나올 확률을 계산할 때 시행 횟수가 많아질수록 50%에 가까워짐을 확인할 수 있다. 즉, 표본이 커질수록, 그리고 시행 횟수가 많아질수록 정확한 예측으로 수렴한다는 것이다.\n",
    "\n",
    "<br>\n",
    "\n",
    "동전 던지기 예제에서 알 수 있듯 큰 수의 법칙은 각 시행의 **독립성**을 전재로 한다. 따라서 투표 기반 분류기를 사용하는 앙상블 학습에서 각 분류기들 사이에 독립성이 전재되어야 개별 분류보다 정확한 예측을 수행한다.\n",
    "\n",
    "> 반대의 경우 오히려 성능이 하락할 수 있다.\n"
   ]
  },
  {
   "cell_type": "markdown",
   "metadata": {},
   "source": [
    "#### 직접 투표와 간접 투표\n"
   ]
  },
  {
   "cell_type": "markdown",
   "metadata": {},
   "source": [
    "투표 기반 분류기는 결과를 취합하는 방법에 따라 직접 투표와 간접 투표로 구분된다.\n",
    "\n",
    "<br>\n",
    "\n",
    "**직접 투표**란 앙상블에 포함된 예측기들의 예측값들을 **다수결 투표**를 통해 결정하는 것을 의미한다.\n",
    "\n",
    "**간접 투표**란 앙상블에 포함된 예측기들의 **예측값들의 평균**을 내어 결정하는 것을 의미한다.\n",
    "\n",
    "- 확률에 기반하여 직접 투표 방식보다 더 나은 성능을 보인다.\n",
    "\n",
    "- 단 모든 예측기가 `predict_proba()` 메소드를 통해 확률 예측 기능을 제공해야 한다.\n"
   ]
  },
  {
   "cell_type": "markdown",
   "metadata": {},
   "source": [
    "#### Code: VotingClassifier\n"
   ]
  },
  {
   "cell_type": "markdown",
   "metadata": {},
   "source": [
    "sklearn에서 제공하는 `VotingClassifier`를 사용하여 직접 투표 방식의 앙상블 학습을 수행할 수 있다.\n"
   ]
  },
  {
   "cell_type": "code",
   "execution_count": 1,
   "metadata": {},
   "outputs": [],
   "source": [
    "# Load dataset\n",
    "from sklearn.model_selection import train_test_split\n",
    "from sklearn.datasets import make_moons\n",
    "\n",
    "X, y = make_moons(n_samples=500, noise=0.30, random_state=42)\n",
    "X_train, X_test, y_train, y_test = train_test_split(X, y, random_state=42)"
   ]
  },
  {
   "cell_type": "code",
   "execution_count": 2,
   "metadata": {},
   "outputs": [
    {
     "data": {
      "text/plain": [
       "0.912"
      ]
     },
     "execution_count": 2,
     "metadata": {},
     "output_type": "execute_result"
    }
   ],
   "source": [
    "from sklearn.ensemble import RandomForestClassifier\n",
    "from sklearn.ensemble import VotingClassifier\n",
    "from sklearn.linear_model import LogisticRegression\n",
    "from sklearn.svm import SVC\n",
    "\n",
    "from sklearn.metrics import accuracy_score\n",
    "\n",
    "# 각각의 분류기를 선언\n",
    "log_clf = LogisticRegression(solver=\"lbfgs\", random_state=42)\n",
    "rnd_clf = RandomForestClassifier(n_estimators=100, random_state=42)\n",
    "svm_clf = SVC(gamma=\"scale\", random_state=42)\n",
    "\n",
    "# VotingClassifier를 선언\n",
    "voting_clf = VotingClassifier(\n",
    "    estimators=[('lr', log_clf),\n",
    "                ('rf', rnd_clf),\n",
    "                ('svc', svm_clf)],\n",
    "    voting='hard')\n",
    "\n",
    "# VotingClassifier 학습\n",
    "voting_clf.fit(X_train, y_train)\n",
    "\n",
    "# 예측 정확도\n",
    "accuracy_score(voting_clf.predict(X_test), y_test)"
   ]
  },
  {
   "cell_type": "code",
   "execution_count": 3,
   "metadata": {},
   "outputs": [
    {
     "name": "stdout",
     "output_type": "stream",
     "text": [
      "LogisticRegression 0.864\n",
      "RandomForestClassifier 0.896\n",
      "SVC 0.896\n",
      "VotingClassifier 0.912\n"
     ]
    }
   ],
   "source": [
    "# 각각의 분류기와 VotingClassifier의 정확도 확인\n",
    "for clf in (log_clf, rnd_clf, svm_clf, voting_clf):\n",
    "    clf.fit(X_train, y_train)\n",
    "    y_pred = clf.predict(X_test)\n",
    "    print(clf.__class__.__name__, accuracy_score(y_test, y_pred))"
   ]
  },
  {
   "cell_type": "markdown",
   "metadata": {},
   "source": [
    "출력 결과에서 확인할 수 있듯, 직접 투표 방식의 앙상블 학습이 개별 분류기보다 더 나은 성능을 보인다.\n"
   ]
  },
  {
   "cell_type": "markdown",
   "metadata": {},
   "source": [
    "#### Code: 직접 투표 vs 간접 투표\n"
   ]
  },
  {
   "cell_type": "markdown",
   "metadata": {},
   "source": [
    "`voting='hard'` 를 통해 직접 투표를 수행할 수 있으며 `voting='soft'`를 통해 간접 투표를 수행 할 수 있다.\n"
   ]
  },
  {
   "cell_type": "code",
   "execution_count": 4,
   "metadata": {},
   "outputs": [
    {
     "name": "stdout",
     "output_type": "stream",
     "text": [
      "hard VotingClassifier 0.912\n",
      "soft VotingClassifier 0.92\n"
     ]
    }
   ],
   "source": [
    "for voting_mode in ('hard', 'soft'):\n",
    "    voting_clf = VotingClassifier(\n",
    "        estimators=[('lr', LogisticRegression(solver=\"lbfgs\", random_state=42)),\n",
    "                    ('rf', RandomForestClassifier(\n",
    "                        n_estimators=100, random_state=42)),\n",
    "                    ('svc', SVC(gamma=\"scale\", probability=True, random_state=42))],\n",
    "        voting=voting_mode)\n",
    "\n",
    "    # VotingClassifier 학습\n",
    "    voting_clf.fit(X_train, y_train)\n",
    "\n",
    "    # 예측 결과 출력\n",
    "    print(voting_mode, clf.__class__.__name__,\n",
    "          accuracy_score(voting_clf.predict(X_test), y_test))"
   ]
  },
  {
   "cell_type": "markdown",
   "metadata": {},
   "source": [
    "출력 결과에서 확인할 수 있듯, 간접 투표 방식이 직접 투표 방식보다 더 나은 성능을 보인다.\n"
   ]
  },
  {
   "cell_type": "markdown",
   "metadata": {},
   "source": [
    "## 배깅과 페이스팅\n"
   ]
  },
  {
   "cell_type": "markdown",
   "metadata": {},
   "source": [
    "위의 VotingClassifier는 훈련을 수행할 때 **전체 데이터를 사용**한다.\n",
    "\n",
    "하지만 전체 데이터를 사용하여 훈련을 수행할 경우 과대 적합 위험이 있으며 계산 효율성이 낮다. 따라서 전체 데이터를 사용하여 훈련을 수행하는 것이 아닌 **샘플그룹(부분집합)을 통해 모델을 학습**하는데 이 중 대표적인 기법이 **배깅**과 **페이스팅**이다.\n"
   ]
  },
  {
   "cell_type": "markdown",
   "metadata": {},
   "source": [
    "샘플링 과정에서 데이터의 중복 여부에 따라 배깅과 페이스팅으로 구분된다.\n",
    "\n",
    "- **배깅(bootstrap aggregation)** 은 중복을 허용하여 샘플링하는 방식이다.\n",
    "\n",
    "- **페이스팅(pasting)** 은 중복을 허용하지 않고 샘플링하는 방식이다.\n",
    "\n",
    "> 통계분야에서 배깅을 **부트스트래핑**, 즉 중복 허용 리샘플링이라고도 부른다.\n",
    "\n",
    "이때 중복을 허용하지 않는다는 것은 같은 분류기 내의 데이터에서 중복을 허용하지 않는 다는 것을 의미한다. 서로 다른 분류기들 사이에서는 중복을 두 기법 모두 허용한다.\n",
    "\n",
    "예를 들어 1000개의 데이터와 5개의 예측기가 있으로 sample 개수가 200일 때,\n",
    "\n",
    "- **배깅**: 1000개의 데이터 중에서 **중복을 허용해** 200개의 데이터를 뽑는 것을 5번 반복하여 모델에 입력한다.\n",
    "\n",
    "- **페이스팅**: 1000개의 데이터 중에서 **중복을 허용하지 않고** 200개의 데이터를 뽑는 것을 5번 반복하여 모델에 입력한다.\n",
    "\n",
    "즉, 1000개의 데이터를 5등분(200개씩)해서 모델 학습에 사용하는 것을 페이스팅이라 부르지 않는다는 것을 주의해야 한다.\n"
   ]
  },
  {
   "cell_type": "markdown",
   "metadata": {},
   "source": [
    "### 예측 방식\n"
   ]
  },
  {
   "cell_type": "markdown",
   "metadata": {},
   "source": [
    "배깅과 페이스팅 모두 투표 기반 분류기의 일종임으로 개별 예측기의 결과를 종합해서 최종 예측값을 지정하는 방법으로 예측을 수행한다.\n",
    "\n",
    "- 분류를 수행하는 경우(분류 모델): 예측값들 중의 최반값(mode)를 선택하는 직접 투표 방식을 사용한다.\n",
    "\n",
    "- 회귀를 수행하는 경우(회귀 모델): 예측값들의 평균값을 선택하는 간접 투표 방식을 사용한다.\n"
   ]
  },
  {
   "cell_type": "markdown",
   "metadata": {},
   "source": [
    "### 앙상블 학습의 편향과 분산(8페이지)\n"
   ]
  },
  {
   "cell_type": "markdown",
   "metadata": {},
   "source": [
    "- 개별 예측기의 경우에 비해 편향은 비슷하지만 분산이 줄어 과대적합의 위험이 줄어든다.\n",
    "\n",
    "- 배깅/페이스팅 기법은 전체 훈련 세트(VotingClassifier)를 사용하는 것보다 편향이 조금 더 높아 과소적합 위험성이 커진다.\n"
   ]
  },
  {
   "cell_type": "markdown",
   "metadata": {},
   "source": [
    "### Code: 배깅/페이스팅\n"
   ]
  },
  {
   "cell_type": "markdown",
   "metadata": {},
   "source": [
    "`bootstrap=False`로 설정하면 페이스팅을, `True`로 설정하면 배깅을 수행한다.\n"
   ]
  },
  {
   "cell_type": "code",
   "execution_count": 15,
   "metadata": {},
   "outputs": [
    {
     "name": "stdout",
     "output_type": "stream",
     "text": [
      "0.904\n"
     ]
    }
   ],
   "source": [
    "from sklearn.metrics import accuracy_score\n",
    "from sklearn.ensemble import BaggingClassifier\n",
    "from sklearn.tree import DecisionTreeClassifier\n",
    "\n",
    "# BaggingClassifier를 사용한 분류기 선언\n",
    "bag_clf = BaggingClassifier(\n",
    "    DecisionTreeClassifier(),\n",
    "    n_estimators=500,  # 500개의 트리를 생성\n",
    "    max_samples=100,   # 각 트리는 100개의 샘플을 사용\n",
    "    bootstrap=True,    # True: 배깅 / False: 페이스팅\n",
    "    random_state=42)\n",
    "\n",
    "# BaggingClassifier 학습\n",
    "bag_clf.fit(X_train, y_train)\n",
    "\n",
    "# 예측 정확도 출력\n",
    "y_pred = bag_clf.predict(X_test)\n",
    "print(accuracy_score(y_test, y_pred))"
   ]
  },
  {
   "cell_type": "code",
   "execution_count": 10,
   "metadata": {},
   "outputs": [
    {
     "name": "stdout",
     "output_type": "stream",
     "text": [
      "0.856\n"
     ]
    }
   ],
   "source": [
    "# 결정 트리 분류기의 정확도를 확인한다.\n",
    "tree_clf = DecisionTreeClassifier(random_state=42)\n",
    "tree_clf.fit(X_train, y_train)\n",
    "y_pred_tree = tree_clf.predict(X_test)\n",
    "print(accuracy_score(y_test, y_pred_tree))"
   ]
  },
  {
   "cell_type": "markdown",
   "metadata": {},
   "source": [
    "배깅을 사용한 경우 결정트리를 사용한 경우보다 더 좋은 성능을 보임을 확인할 수 있다.\n",
    "\n",
    "이는 배깅이 모델의 결정 경계를 더 부드럽게 만들어 과대적합을 줄이기 때문이다.\n"
   ]
  },
  {
   "cell_type": "markdown",
   "metadata": {},
   "source": [
    "<img src=\"data:image/png;base64,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\">\n"
   ]
  },
  {
   "cell_type": "markdown",
   "metadata": {},
   "source": [
    "일반적으로 배깅이 페이스팅에 비해 편향이 더 크며 분산이 더 작다.\n",
    "\n",
    "앙상블은 비슷한 편향에서 더 작은 분산을 만든다.\n",
    "\n",
    "대체적으로 배깅이 더 나은 모델을 만든다.\n"
   ]
  },
  {
   "cell_type": "markdown",
   "metadata": {},
   "source": [
    "#### OOB 평가\n"
   ]
  },
  {
   "cell_type": "markdown",
   "metadata": {},
   "source": [
    "배깅은 중복을 허용하여 샘플을 추출하기에 한 번도 사용되지 않는 샘플이 존재한다. 이와 같이 훈련시에 선택되지 않은 훈련 샘플을 **oob(out-of-bag) 샘플**이라고 부른다.\n",
    "\n",
    "이와 같이 한번도 사용되지 않은 샘플인 oob를 통해 앙상블 학습의 개별 예측기의 성능을 평가하는 것을 **oob 평가**라고 부른다.\n",
    "\n",
    "각 예측기의 oob 평가 점수를 평균하여 앙상블의 oob 평가 점수를 산출한다.\n",
    "\n",
    "> BaggingClassifier에서 `oob_score=True`를 통해 oob 평가를 수행할 수 있다.\n"
   ]
  },
  {
   "cell_type": "code",
   "execution_count": 11,
   "metadata": {},
   "outputs": [
    {
     "data": {
      "text/plain": [
       "0.8986666666666666"
      ]
     },
     "execution_count": 11,
     "metadata": {},
     "output_type": "execute_result"
    }
   ],
   "source": [
    "bag_clf = BaggingClassifier(\n",
    "    DecisionTreeClassifier(), n_estimators=500,\n",
    "    bootstrap=True, oob_score=True, random_state=40)\n",
    "\n",
    "bag_clf.fit(X_train, y_train)\n",
    "\n",
    "bag_clf.oob_score_"
   ]
  },
  {
   "cell_type": "markdown",
   "metadata": {},
   "source": [
    "### 랜덤 패치와 랜덤 서브스페이스(11페이지)\n"
   ]
  },
  {
   "cell_type": "markdown",
   "metadata": {},
   "source": [
    "TBD\n"
   ]
  },
  {
   "cell_type": "markdown",
   "metadata": {},
   "source": [
    "## 랜덤 포레스트\n"
   ]
  },
  {
   "cell_type": "markdown",
   "metadata": {},
   "source": [
    "배깅/페이스팅 방법을 적용한 결정 트리의 앙상블을 **랜덤 포레스트**라고 부른다.\n",
    "\n",
    "- 트리의 노드를 분할할 때 최선의 특성 보다는 무작위성을 가진 특성을 사용하여 분할한다.\n",
    "\n",
    "- 이를 통해 편향을 손해보는 대신 분산을 낮추어 전체적으로 더 다양한 트리를 만든다.\n"
   ]
  },
  {
   "cell_type": "code",
   "execution_count": 22,
   "metadata": {},
   "outputs": [
    {
     "name": "stdout",
     "output_type": "stream",
     "text": [
      "0.912\n"
     ]
    }
   ],
   "source": [
    "from sklearn.ensemble import RandomForestClassifier\n",
    "\n",
    "# RandomForestClassifier를 사용한 분류기 선언\n",
    "rnd_clf = RandomForestClassifier(n_estimators=500,  # 500개의 트리를 생성\n",
    "                                 max_leaf_nodes=16,  # 각 트리의 최대 리프 노드 개수\n",
    "                                 random_state=42)\n",
    "\n",
    "# RandomForestClassifier 학습\n",
    "rnd_clf.fit(X_train, y_train)\n",
    "\n",
    "# 예측 정확도 출력\n",
    "y_pred_rf = rnd_clf.predict(X_test)\n",
    "print(accuracy_score(y_test, y_pred_rf))"
   ]
  },
  {
   "cell_type": "markdown",
   "metadata": {},
   "source": [
    "배깅을 통해 수행된 내용과 비교해 보았을 때 모든 예측 값이 일치함을 확인할 수 있다.\n",
    "\n",
    "이를 통해 **결정 트리를 배깅 방식으로 앙상블한 것이 랜덤 포레스트**임을 알 수 있다.\n"
   ]
  },
  {
   "cell_type": "code",
   "execution_count": 24,
   "metadata": {},
   "outputs": [
    {
     "data": {
      "text/plain": [
       "1.0"
      ]
     },
     "execution_count": 24,
     "metadata": {},
     "output_type": "execute_result"
    }
   ],
   "source": [
    "import numpy as np\n",
    "\n",
    "bag_clf = BaggingClassifier(\n",
    "    DecisionTreeClassifier(max_features=\"sqrt\", max_leaf_nodes=16),\n",
    "    n_estimators=500, random_state=42)\n",
    "\n",
    "bag_clf.fit(X_train, y_train)\n",
    "y_pred = bag_clf.predict(X_test)\n",
    "\n",
    "# 랜덤 포레스트 예측값과 배깅 예측값이 같은지 1대 1로 비교한 뒤 정확도를 출력한다.\n",
    "np.sum(y_pred == y_pred_rf) / len(y_pred)"
   ]
  },
  {
   "cell_type": "markdown",
   "metadata": {},
   "source": [
    "### 엑스트라 트리\n"
   ]
  },
  {
   "cell_type": "markdown",
   "metadata": {},
   "source": [
    "랜덤 포레스트는 무작위 선택을 통해 특성을 선택하여 노드를 분할한다. 이때 특성 임계값은 무작위 분할을 수행한 뒤 최적값을 선택한다.\n",
    "\n",
    "하지만 특성과 특성 임곗값 모두 무작위로 선택하는 것을 **엑스트라 트리**라고 부른다.\n",
    "\n",
    "<br>\n",
    "\n",
    "극단적으로 무작위한 트리인 엑스트라 트리는 일반적인 랜덤 포레스트보다 훈련이 빠르다.\n",
    "\n",
    "하지만 일반적으로 랜덤 포레스트보다 성능이 떨어진다.\n",
    "\n",
    "> 엑스트라 트리 역시 앙상블 모델이기에 편향은 높아지지만 분산은 낮아진다.\n"
   ]
  },
  {
   "cell_type": "markdown",
   "metadata": {},
   "source": [
    "### 특성 중요도\n"
   ]
  },
  {
   "cell_type": "markdown",
   "metadata": {},
   "source": [
    "해당 특성을 사용한 노드가 평균적으로 **불순도를 얼마나 많이 감소시키는지**를 측정하여 특성의 중요도를 측정할 수 있다.\n",
    "\n",
    "RandomForestClassifier의 `feature_importances_`를 통해 특성 중요도를 확인할 수 있으며 중요도의 총 합은 1이다.(1이 되도록 정규화 함)\n"
   ]
  },
  {
   "cell_type": "code",
   "execution_count": 27,
   "metadata": {},
   "outputs": [
    {
     "name": "stdout",
     "output_type": "stream",
     "text": [
      "sepal length (cm) 0.11249225099876375\n",
      "sepal width (cm) 0.02311928828251033\n",
      "petal length (cm) 0.4410304643639577\n",
      "petal width (cm) 0.4233579963547682\n",
      "\n",
      "Score Sum: 1.0\n"
     ]
    }
   ],
   "source": [
    "# Load dataset\n",
    "from sklearn.datasets import load_iris\n",
    "iris = load_iris()\n",
    "\n",
    "# RandomForestClassifier를 사용한 분류기 선언 및 학습\n",
    "rnd_clf = RandomForestClassifier(n_estimators=500, random_state=42)\n",
    "rnd_clf.fit(iris[\"data\"], iris[\"target\"])\n",
    "\n",
    "# 각 특성과 특성 중요도 점수를 출력한다.\n",
    "for name, score in zip(iris[\"feature_names\"], rnd_clf.feature_importances_):\n",
    "    print(name, score)\n",
    "\n",
    "# 특성 중요도 점수의 총합이 1임을 확인할 수 있다.\n",
    "print(f'\\nScore Sum: {rnd_clf.feature_importances_.sum()}')"
   ]
  },
  {
   "cell_type": "markdown",
   "metadata": {},
   "source": [
    "아래와 같이 데이터에 대한 특성 중요도를 확인할 수 있다.\n"
   ]
  },
  {
   "cell_type": "code",
   "execution_count": null,
   "metadata": {},
   "outputs": [],
   "source": [
    "from sklearn.datasets import fetch_openml\n",
    "\n",
    "# MNIST 데이터셋을 로드한다.\n",
    "mnist = fetch_openml('mnist_784', version=1)\n",
    "mnist.target = mnist.target.astype(np.uint8)\n",
    "\n",
    "rnd_clf = RandomForestClassifier(n_estimators=100, random_state=42)\n",
    "rnd_clf.fit(mnist[\"data\"], mnist[\"target\"])\n",
    "\n",
    "\n",
    "def plot_digit(data):\n",
    "    image = data.reshape(28, 28)\n",
    "    plt.imshow(image, cmap=mpl.cm.hot,\n",
    "               interpolation=\"nearest\")\n",
    "    plt.axis(\"off\")\n",
    "\n",
    "\n",
    "plot_digit(rnd_clf.feature_importances_)\n",
    "\n",
    "cbar = plt.colorbar(\n",
    "    ticks=[rnd_clf.feature_importances_.min(), rnd_clf.feature_importances_.max()])\n",
    "cbar.ax.set_yticklabels(['Not important', 'Very important'])\n",
    "\n",
    "save_fig(\"mnist_feature_importance_plot\")\n",
    "plt.show()"
   ]
  },
  {
   "cell_type": "markdown",
   "metadata": {},
   "source": [
    "## 부스팅\n"
   ]
  },
  {
   "cell_type": "markdown",
   "metadata": {},
   "source": [
    "부스팅(boosting)이란 순차적으로 성능이 약한 이진 학습기의 결과를 바탕으로 성능을 조금씩 높여나가서 강한 성능의 학습기를 만드는 앙상블 기법이다.\n",
    "\n",
    "순차적으로 학습하기에 배깅/페이스팅에 비해 확장성이 떨어지지만 꾸준하게 성능이 증가한다는 강점이 있다.\n",
    "\n",
    "대표적인 부스팅에는 에이다부트스트, 그레이디언트 부스팅이 있다.\n"
   ]
  },
  {
   "cell_type": "markdown",
   "metadata": {},
   "source": [
    "### 에이다부스트\n"
   ]
  },
  {
   "cell_type": "markdown",
   "metadata": {},
   "source": [
    "기존 병렬적으로 나열되었던 학습기와 달리 에이다부스트(AdaBoost - Adaptive Boosting)는 이전 학습기의 예측이 잘못된(과소적합) 샘플에 가중치를 높여 다음 학습기에 적용하는 방식이다.\n",
    "\n",
    "에이다 부스트는 비용함수를 최소화 하는 대부분의 기계학습 모델과 달리 예측 성능을 최대화 하는 방향으로 학습을 진행한다.\n",
    "\n",
    "에이다 부스트는 예측 성능을 높이기 위하여 가중치 조절과 더불어 현재 모델을 통해 예측을 수행할 수 없는 데이터를 예측기를 추가하여 대응한다.\n",
    "\n",
    "<img src=\"https://velog.velcdn.com/images/kyungmin1029/post/aa6e33a1-b27f-471b-bd63-260a0b082211/image.png\">\n"
   ]
  },
  {
   "cell_type": "code",
   "execution_count": 30,
   "metadata": {},
   "outputs": [
    {
     "name": "stdout",
     "output_type": "stream",
     "text": [
      "0.896\n"
     ]
    }
   ],
   "source": [
    "from sklearn.ensemble import AdaBoostClassifier\n",
    "\n",
    "# AdaBoostClassifier를 사용한 분류기 선언\n",
    "ada_clf = AdaBoostClassifier(\n",
    "    DecisionTreeClassifier(max_depth=1),\n",
    "    n_estimators=200,     # 200개의 트리를 생성\n",
    "    algorithm=\"SAMME.R\",  # SAMME.R: 예측값을 확률로 출력\n",
    "    learning_rate=0.5,    # 학습률\n",
    "    random_state=42)\n",
    "\n",
    "# AdaBoostClassifier 학습\n",
    "ada_clf.fit(X_train, y_train)\n",
    "\n",
    "# 예측 정확도 출력\n",
    "y_pred = ada_clf.predict(X_test)\n",
    "print(accuracy_score(y_test, y_pred))"
   ]
  },
  {
   "cell_type": "markdown",
   "metadata": {},
   "source": [
    "### 그레이디언트 부스팅\n"
   ]
  },
  {
   "cell_type": "markdown",
   "metadata": {},
   "source": [
    "이진 학습기에 의한 오차를 보정하도록 새로운 학습기를 추가하는 방식은 에이다 부스트와 동일하다.\n",
    "\n",
    "하지만 샘플의 가중치를 수정하는 대신 이전 예측기가 만든 **잔여 오차(residual error)**에 새로운 예측기를 학습시킨다.\n",
    "\n",
    "> 잔여 오차(이전 예측기의 예측값과 실제값의 오차)는 경사 하강법을 통해 최적화한다.\n"
   ]
  },
  {
   "cell_type": "markdown",
   "metadata": {},
   "source": [
    "#### Code: 그레이디언트 부스팅 회귀\n"
   ]
  },
  {
   "cell_type": "markdown",
   "metadata": {},
   "source": [
    "그레이디언트 부스팅 회귀(GBRT)는 각 결정트리에서 도출된 예측값을 통해 잔여 오차를 구하고 이를 기반으로 다음 결정트리를 학습시키는 과정을 반복한다.\n"
   ]
  },
  {
   "cell_type": "code",
   "execution_count": null,
   "metadata": {},
   "outputs": [],
   "source": [
    "from sklearn.tree import DecisionTreeRegressor\n",
    "\n",
    "# 첫번째 결정 트리 학습\n",
    "tree_reg1 = DecisionTreeRegressor(max_depth=2, random_state=42)\n",
    "tree_reg1.fit(X, y)\n",
    "\n",
    "# 첫번째 결정 트리의 잔여 오차를 기반으로 두번째 결정 트리를 학습\n",
    "y2 = y - tree_reg1.predict(X)\n",
    "tree_reg2 = DecisionTreeRegressor(max_depth=2, random_state=42)\n",
    "tree_reg2.fit(X, y2)\n",
    "\n",
    "# 두번째 결정 트리의 잔여 오차를 기반으로 세번째 결정 트리를 학습\n",
    "y3 = y2 - tree_reg2.predict(X)\n",
    "tree_reg3 = DecisionTreeRegressor(max_depth=2, random_state=42)\n",
    "tree_reg3.fit(X, y3)"
   ]
  },
  {
   "cell_type": "markdown",
   "metadata": {},
   "source": [
    "위의 tree_reg1, tree_reg2, tree_reg3는 각각 아래와 같다.\n",
    "\n",
    "좌측 그래프는 잔여 오차에 대한 회귀 트리의 예측값이며 우측 그래프는 이를 누적한 결과이다.\n"
   ]
  },
  {
   "cell_type": "markdown",
   "metadata": {},
   "source": [
    "<img src=\"data:image/png;base64,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\">\n"
   ]
  },
  {
   "cell_type": "markdown",
   "metadata": {},
   "source": [
    "그레디언트 부스팅은 위 과정을 자동화한 것으로 `GradientBoostingClassifier` 클래스를 통해 구현할 수 있다.\n"
   ]
  },
  {
   "cell_type": "code",
   "execution_count": 32,
   "metadata": {},
   "outputs": [
    {
     "data": {
      "text/html": [
       "<style>#sk-container-id-1 {color: black;background-color: white;}#sk-container-id-1 pre{padding: 0;}#sk-container-id-1 div.sk-toggleable {background-color: white;}#sk-container-id-1 label.sk-toggleable__label {cursor: pointer;display: block;width: 100%;margin-bottom: 0;padding: 0.3em;box-sizing: border-box;text-align: center;}#sk-container-id-1 label.sk-toggleable__label-arrow:before {content: \"▸\";float: left;margin-right: 0.25em;color: #696969;}#sk-container-id-1 label.sk-toggleable__label-arrow:hover:before {color: black;}#sk-container-id-1 div.sk-estimator:hover label.sk-toggleable__label-arrow:before {color: black;}#sk-container-id-1 div.sk-toggleable__content {max-height: 0;max-width: 0;overflow: hidden;text-align: left;background-color: #f0f8ff;}#sk-container-id-1 div.sk-toggleable__content pre {margin: 0.2em;color: black;border-radius: 0.25em;background-color: #f0f8ff;}#sk-container-id-1 input.sk-toggleable__control:checked~div.sk-toggleable__content {max-height: 200px;max-width: 100%;overflow: auto;}#sk-container-id-1 input.sk-toggleable__control:checked~label.sk-toggleable__label-arrow:before {content: \"▾\";}#sk-container-id-1 div.sk-estimator input.sk-toggleable__control:checked~label.sk-toggleable__label {background-color: #d4ebff;}#sk-container-id-1 div.sk-label input.sk-toggleable__control:checked~label.sk-toggleable__label {background-color: #d4ebff;}#sk-container-id-1 input.sk-hidden--visually {border: 0;clip: rect(1px 1px 1px 1px);clip: rect(1px, 1px, 1px, 1px);height: 1px;margin: -1px;overflow: hidden;padding: 0;position: absolute;width: 1px;}#sk-container-id-1 div.sk-estimator {font-family: monospace;background-color: #f0f8ff;border: 1px dotted black;border-radius: 0.25em;box-sizing: border-box;margin-bottom: 0.5em;}#sk-container-id-1 div.sk-estimator:hover {background-color: #d4ebff;}#sk-container-id-1 div.sk-parallel-item::after {content: \"\";width: 100%;border-bottom: 1px solid gray;flex-grow: 1;}#sk-container-id-1 div.sk-label:hover label.sk-toggleable__label {background-color: #d4ebff;}#sk-container-id-1 div.sk-serial::before {content: \"\";position: absolute;border-left: 1px solid gray;box-sizing: border-box;top: 0;bottom: 0;left: 50%;z-index: 0;}#sk-container-id-1 div.sk-serial {display: flex;flex-direction: column;align-items: center;background-color: white;padding-right: 0.2em;padding-left: 0.2em;position: relative;}#sk-container-id-1 div.sk-item {position: relative;z-index: 1;}#sk-container-id-1 div.sk-parallel {display: flex;align-items: stretch;justify-content: center;background-color: white;position: relative;}#sk-container-id-1 div.sk-item::before, #sk-container-id-1 div.sk-parallel-item::before {content: \"\";position: absolute;border-left: 1px solid gray;box-sizing: border-box;top: 0;bottom: 0;left: 50%;z-index: -1;}#sk-container-id-1 div.sk-parallel-item {display: flex;flex-direction: column;z-index: 1;position: relative;background-color: white;}#sk-container-id-1 div.sk-parallel-item:first-child::after {align-self: flex-end;width: 50%;}#sk-container-id-1 div.sk-parallel-item:last-child::after {align-self: flex-start;width: 50%;}#sk-container-id-1 div.sk-parallel-item:only-child::after {width: 0;}#sk-container-id-1 div.sk-dashed-wrapped {border: 1px dashed gray;margin: 0 0.4em 0.5em 0.4em;box-sizing: border-box;padding-bottom: 0.4em;background-color: white;}#sk-container-id-1 div.sk-label label {font-family: monospace;font-weight: bold;display: inline-block;line-height: 1.2em;}#sk-container-id-1 div.sk-label-container {text-align: center;}#sk-container-id-1 div.sk-container {/* jupyter's `normalize.less` sets `[hidden] { display: none; }` but bootstrap.min.css set `[hidden] { display: none !important; }` so we also need the `!important` here to be able to override the default hidden behavior on the sphinx rendered scikit-learn.org. See: https://github.com/scikit-learn/scikit-learn/issues/21755 */display: inline-block !important;position: relative;}#sk-container-id-1 div.sk-text-repr-fallback {display: none;}</style><div id=\"sk-container-id-1\" class=\"sk-top-container\"><div class=\"sk-text-repr-fallback\"><pre>GradientBoostingRegressor(learning_rate=1.0, max_depth=2, n_estimators=3,\n",
       "                          random_state=42)</pre><b>In a Jupyter environment, please rerun this cell to show the HTML representation or trust the notebook. <br />On GitHub, the HTML representation is unable to render, please try loading this page with nbviewer.org.</b></div><div class=\"sk-container\" hidden><div class=\"sk-item\"><div class=\"sk-estimator sk-toggleable\"><input class=\"sk-toggleable__control sk-hidden--visually\" id=\"sk-estimator-id-1\" type=\"checkbox\" checked><label for=\"sk-estimator-id-1\" class=\"sk-toggleable__label sk-toggleable__label-arrow\">GradientBoostingRegressor</label><div class=\"sk-toggleable__content\"><pre>GradientBoostingRegressor(learning_rate=1.0, max_depth=2, n_estimators=3,\n",
       "                          random_state=42)</pre></div></div></div></div></div>"
      ],
      "text/plain": [
       "GradientBoostingRegressor(learning_rate=1.0, max_depth=2, n_estimators=3,\n",
       "                          random_state=42)"
      ]
     },
     "execution_count": 32,
     "metadata": {},
     "output_type": "execute_result"
    }
   ],
   "source": [
    "from sklearn.ensemble import GradientBoostingRegressor\n",
    "\n",
    "gbrt = GradientBoostingRegressor(\n",
    "    max_depth=2,        # 각 결정 트리의 최대 깊이\n",
    "    n_estimators=3,     # 트리의 개수\n",
    "    learning_rate=1.0,  # 학습률\n",
    "    random_state=42)\n",
    "gbrt.fit(X, y)"
   ]
  }
 ],
 "metadata": {
  "kernelspec": {
   "display_name": "Python 3",
   "language": "python",
   "name": "python3"
  },
  "language_info": {
   "codemirror_mode": {
    "name": "ipython",
    "version": 3
   },
   "file_extension": ".py",
   "mimetype": "text/x-python",
   "name": "python",
   "nbconvert_exporter": "python",
   "pygments_lexer": "ipython3",
   "version": "3.9.0"
  }
 },
 "nbformat": 4,
 "nbformat_minor": 2
}
